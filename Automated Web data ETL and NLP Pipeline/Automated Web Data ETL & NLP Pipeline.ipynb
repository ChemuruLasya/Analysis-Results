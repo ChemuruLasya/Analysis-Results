{
 "cells": [
  {
   "cell_type": "markdown",
   "id": "b10782a9",
   "metadata": {},
   "source": [
    "**Automated Web Data ETL & NLP Pipeline: Analyzing News Sentiment**\n",
    "    \n",
    "In today's digital era, vast amounts of textual data are generated across various news platforms. Understanding and analyzing this content can provide valuable insights into reporting styles, sentiment biases, and public perception.\n",
    "\n",
    "This project builds a Web Data ETL Pipeline using Python, extracting news articles from the web using BeautifulSoup4. The extracted text is processed and analyzed using Natural Language Processing (NLP) techniques, including:\n",
    "\n",
    "Topic Modeling to identify key themes,\n",
    "Text Summarization for concise article overviews,\n",
    "Named Entity Recognition (NER) to extract important entities, and\n",
    "Sentiment Analysis to measure polarity and subjectivity.\n",
    "\n",
    "To demonstrate its real-world application, the project compares sentiment scores of BBC and CNN on the same topic. The results highlight variations in tone, subjectivity, and bias between the two news sources, showcasing how automated NLP pipelines can be leveraged for media analysis."
   ]
  },
  {
   "cell_type": "code",
   "execution_count": 2,
   "id": "2a408745",
   "metadata": {
    "scrolled": true
   },
   "outputs": [],
   "source": [
    "#!pip install beautifulsoup4 nltk textblob gensim\n",
    "#!pip install transformers\n",
    "#!pip install tf-keras"
   ]
  },
  {
   "cell_type": "markdown",
   "id": "a1e31680",
   "metadata": {},
   "source": [
    "**beautifulsoup4** – A library for web scraping that helps extract data from HTML and XML files.\n",
    "\n",
    "**nltk (Natural Language Toolkit)** – A library for text processing, including tokenization, stemming, and stopword removal.\n",
    "\n",
    "**textblob** – A simple NLP library built on nltk that provides easy text processing functions like sentiment analysis and noun phrase extraction.\n",
    "\n",
    "**gensim** – A library for topic modeling and document similarity analysis, commonly used for word embeddings.\n",
    "\n",
    "**transformers** – A library from Hugging Face for state-of-the-art NLP models like BERT and GPT.\n",
    "\n",
    "**tf-keras** – A high-level API for building and training deep learning models with TensorFlow's Keras module."
   ]
  },
  {
   "cell_type": "code",
   "execution_count": 3,
   "id": "4db418ca",
   "metadata": {},
   "outputs": [
    {
     "name": "stderr",
     "output_type": "stream",
     "text": [
      "[nltk_data] Downloading package stopwords to\n",
      "[nltk_data]     C:\\Users\\chemu\\AppData\\Roaming\\nltk_data...\n",
      "[nltk_data]   Package stopwords is already up-to-date!\n"
     ]
    },
    {
     "data": {
      "text/plain": [
       "True"
      ]
     },
     "execution_count": 3,
     "metadata": {},
     "output_type": "execute_result"
    }
   ],
   "source": [
    "import requests\n",
    "from bs4 import BeautifulSoup\n",
    "from nltk.corpus import stopwords\n",
    "from collections import Counter\n",
    "from textblob import TextBlob\n",
    "from gensim.corpora.dictionary import Dictionary\n",
    "from gensim.models.ldamodel import LdaModel\n",
    "import pandas as pd\n",
    "import nltk\n",
    "nltk.download('stopwords')"
   ]
  },
  {
   "cell_type": "markdown",
   "id": "9a6f2d13",
   "metadata": {},
   "source": [
    "**requests** – Used to send HTTP requests and retrieve web page content.\n",
    "\n",
    "**nltk.corpus.stopwords** – Provides a list of common stopwords (e.g., \"the,\" \"and\") to filter out unimportant words in text analysis.\n",
    "\n",
    "**Counter** (from collections) – Counts occurrences of words or elements in a dataset.\n",
    "\n",
    "**TextBlob** – Simplifies NLP tasks like sentiment analysis and text processing.\n",
    "\n",
    "**Dictionary** (from gensim.corpora) – Converts text data into a format suitable for topic modeling.\n",
    "\n",
    "**LdaModel** (from gensim.models.ldamodel) – Implements Latent Dirichlet Allocation (LDA), a topic modeling technique.\n",
    "\n",
    "**nltk.download('stopwords')** – Downloads the stopwords dataset required by nltk for text preprocessing."
   ]
  },
  {
   "cell_type": "code",
   "execution_count": 4,
   "id": "5c17bd16",
   "metadata": {
    "scrolled": true
   },
   "outputs": [],
   "source": [
    "#!pip install transformers"
   ]
  },
  {
   "cell_type": "code",
   "execution_count": 5,
   "id": "aee84d6e",
   "metadata": {},
   "outputs": [],
   "source": [
    "#!pip install tf-keras"
   ]
  },
  {
   "cell_type": "code",
   "execution_count": 6,
   "id": "0a6dc5a5",
   "metadata": {
    "scrolled": true
   },
   "outputs": [],
   "source": [
    "#!pip uninstall keras -y\n",
    "#!pip install keras==2.15.0"
   ]
  },
  {
   "cell_type": "markdown",
   "id": "488f1ed3",
   "metadata": {},
   "source": [
    "Installing Suitable keras version for our task, previously when I tried higher version keras it does not supported Transformers library "
   ]
  },
  {
   "cell_type": "code",
   "execution_count": 8,
   "id": "bfb61e17",
   "metadata": {},
   "outputs": [],
   "source": [
    "#!pip install spacy"
   ]
  },
  {
   "cell_type": "code",
   "execution_count": 9,
   "id": "10c9e5d5",
   "metadata": {},
   "outputs": [
    {
     "name": "stdout",
     "output_type": "stream",
     "text": [
      "Collecting en-core-web-sm==3.8.0\n",
      "  Downloading https://github.com/explosion/spacy-models/releases/download/en_core_web_sm-3.8.0/en_core_web_sm-3.8.0-py3-none-any.whl (12.8 MB)\n",
      "     ---------------------------------------- 0.0/12.8 MB ? eta -:--:--\n",
      "     ---------------------------------------- 0.0/12.8 MB ? eta -:--:--\n",
      "     ---------------------------------------- 0.0/12.8 MB ? eta -:--:--\n",
      "     ---------------------------------------- 0.0/12.8 MB ? eta -:--:--\n",
      "     ---------------------------------------- 0.0/12.8 MB ? eta -:--:--\n",
      "     ---------------------------------------- 0.0/12.8 MB ? eta -:--:--\n",
      "      --------------------------------------- 0.3/12.8 MB ? eta -:--:--\n",
      "      --------------------------------------- 0.3/12.8 MB ? eta -:--:--\n",
      "      --------------------------------------- 0.3/12.8 MB ? eta -:--:--\n",
      "      --------------------------------------- 0.3/12.8 MB ? eta -:--:--\n",
      "      --------------------------------------- 0.3/12.8 MB ? eta -:--:--\n",
      "      --------------------------------------- 0.3/12.8 MB ? eta -:--:--\n",
      "      --------------------------------------- 0.3/12.8 MB ? eta -:--:--\n",
      "     - ------------------------------------- 0.5/12.8 MB 197.4 kB/s eta 0:01:03\n",
      "     - ------------------------------------- 0.5/12.8 MB 197.4 kB/s eta 0:01:03\n",
      "     - ------------------------------------- 0.5/12.8 MB 197.4 kB/s eta 0:01:03\n",
      "     - ------------------------------------- 0.5/12.8 MB 197.4 kB/s eta 0:01:03\n",
      "     - ------------------------------------- 0.5/12.8 MB 197.4 kB/s eta 0:01:03\n",
      "     -- ------------------------------------ 0.8/12.8 MB 213.7 kB/s eta 0:00:57\n",
      "     -- ------------------------------------ 0.8/12.8 MB 213.7 kB/s eta 0:00:57\n",
      "     -- ------------------------------------ 0.8/12.8 MB 213.7 kB/s eta 0:00:57\n",
      "     -- ------------------------------------ 0.8/12.8 MB 213.7 kB/s eta 0:00:57\n",
      "     -- ------------------------------------ 0.8/12.8 MB 213.7 kB/s eta 0:00:57\n",
      "     --- ----------------------------------- 1.0/12.8 MB 216.1 kB/s eta 0:00:55\n",
      "     --- ----------------------------------- 1.0/12.8 MB 216.1 kB/s eta 0:00:55\n",
      "     --- ----------------------------------- 1.0/12.8 MB 216.1 kB/s eta 0:00:55\n",
      "     --- ----------------------------------- 1.0/12.8 MB 216.1 kB/s eta 0:00:55\n",
      "     --- ----------------------------------- 1.0/12.8 MB 216.1 kB/s eta 0:00:55\n",
      "     --- ----------------------------------- 1.0/12.8 MB 216.1 kB/s eta 0:00:55\n",
      "     --- ----------------------------------- 1.3/12.8 MB 220.1 kB/s eta 0:00:53\n",
      "     --- ----------------------------------- 1.3/12.8 MB 220.1 kB/s eta 0:00:53\n",
      "     --- ----------------------------------- 1.3/12.8 MB 220.1 kB/s eta 0:00:53\n",
      "     --- ----------------------------------- 1.3/12.8 MB 220.1 kB/s eta 0:00:53\n",
      "     ---- ---------------------------------- 1.6/12.8 MB 228.6 kB/s eta 0:00:50\n",
      "     ---- ---------------------------------- 1.6/12.8 MB 228.6 kB/s eta 0:00:50\n",
      "     ---- ---------------------------------- 1.6/12.8 MB 228.6 kB/s eta 0:00:50\n",
      "     ---- ---------------------------------- 1.6/12.8 MB 228.6 kB/s eta 0:00:50\n",
      "     ---- ---------------------------------- 1.6/12.8 MB 228.6 kB/s eta 0:00:50\n",
      "     ---- ---------------------------------- 1.6/12.8 MB 228.6 kB/s eta 0:00:50\n",
      "     ----- --------------------------------- 1.8/12.8 MB 230.9 kB/s eta 0:00:48\n",
      "     ----- --------------------------------- 1.8/12.8 MB 230.9 kB/s eta 0:00:48\n",
      "     ----- --------------------------------- 1.8/12.8 MB 230.9 kB/s eta 0:00:48\n",
      "     ----- --------------------------------- 1.8/12.8 MB 230.9 kB/s eta 0:00:48\n",
      "     ----- --------------------------------- 1.8/12.8 MB 230.9 kB/s eta 0:00:48\n",
      "     ------ -------------------------------- 2.1/12.8 MB 231.2 kB/s eta 0:00:47\n",
      "     ------ -------------------------------- 2.1/12.8 MB 231.2 kB/s eta 0:00:47\n",
      "     ------ -------------------------------- 2.1/12.8 MB 231.2 kB/s eta 0:00:47\n",
      "     ------ -------------------------------- 2.1/12.8 MB 231.2 kB/s eta 0:00:47\n",
      "     ------ -------------------------------- 2.1/12.8 MB 231.2 kB/s eta 0:00:47\n",
      "     ------- ------------------------------- 2.4/12.8 MB 234.2 kB/s eta 0:00:45\n",
      "     ------- ------------------------------- 2.4/12.8 MB 234.2 kB/s eta 0:00:45\n",
      "     ------- ------------------------------- 2.4/12.8 MB 234.2 kB/s eta 0:00:45\n",
      "     ------- ------------------------------- 2.4/12.8 MB 234.2 kB/s eta 0:00:45\n",
      "     ------- ------------------------------- 2.4/12.8 MB 234.2 kB/s eta 0:00:45\n",
      "     ------- ------------------------------- 2.4/12.8 MB 234.2 kB/s eta 0:00:45\n",
      "     ------- ------------------------------- 2.4/12.8 MB 234.2 kB/s eta 0:00:45\n",
      "     ------- ------------------------------- 2.6/12.8 MB 227.1 kB/s eta 0:00:45\n",
      "     ------- ------------------------------- 2.6/12.8 MB 227.1 kB/s eta 0:00:45\n",
      "     ------- ------------------------------- 2.6/12.8 MB 227.1 kB/s eta 0:00:45\n",
      "     ------- ------------------------------- 2.6/12.8 MB 227.1 kB/s eta 0:00:45\n",
      "     -------- ------------------------------ 2.9/12.8 MB 233.7 kB/s eta 0:00:43\n",
      "     --------- ----------------------------- 3.1/12.8 MB 251.4 kB/s eta 0:00:39\n",
      "     ---------- ---------------------------- 3.4/12.8 MB 268.5 kB/s eta 0:00:36\n",
      "     ----------- --------------------------- 3.7/12.8 MB 284.7 kB/s eta 0:00:33\n",
      "     ----------- --------------------------- 3.9/12.8 MB 302.3 kB/s eta 0:00:30\n",
      "     ------------- ------------------------- 4.5/12.8 MB 336.8 kB/s eta 0:00:25\n",
      "     -------------- ------------------------ 4.7/12.8 MB 354.8 kB/s eta 0:00:23\n",
      "     -------------- ------------------------ 4.7/12.8 MB 354.8 kB/s eta 0:00:23\n",
      "     --------------- ----------------------- 5.0/12.8 MB 364.3 kB/s eta 0:00:22\n",
      "     --------------- ----------------------- 5.2/12.8 MB 378.6 kB/s eta 0:00:20\n",
      "     ---------------- ---------------------- 5.5/12.8 MB 389.3 kB/s eta 0:00:19\n",
      "     ----------------- --------------------- 5.8/12.8 MB 404.0 kB/s eta 0:00:18\n",
      "     ----------------- --------------------- 5.8/12.8 MB 404.0 kB/s eta 0:00:18\n",
      "     ------------------- ------------------- 6.3/12.8 MB 429.7 kB/s eta 0:00:16\n",
      "     ------------------- ------------------- 6.6/12.8 MB 438.6 kB/s eta 0:00:15\n",
      "     ------------------- ------------------- 6.6/12.8 MB 438.6 kB/s eta 0:00:15\n",
      "     -------------------- ------------------ 6.8/12.8 MB 447.6 kB/s eta 0:00:14\n",
      "     ---------------------- ---------------- 7.3/12.8 MB 471.4 kB/s eta 0:00:12\n",
      "     ---------------------- ---------------- 7.3/12.8 MB 471.4 kB/s eta 0:00:12\n",
      "     ----------------------- --------------- 7.6/12.8 MB 479.9 kB/s eta 0:00:11\n",
      "     ----------------------- --------------- 7.9/12.8 MB 488.5 kB/s eta 0:00:11\n",
      "     ------------------------ -------------- 8.1/12.8 MB 498.8 kB/s eta 0:00:10\n",
      "     ------------------------- ------------- 8.4/12.8 MB 508.4 kB/s eta 0:00:09\n",
      "     -------------------------- ------------ 8.7/12.8 MB 518.2 kB/s eta 0:00:09\n",
      "     --------------------------- ----------- 8.9/12.8 MB 527.8 kB/s eta 0:00:08\n",
      "     --------------------------- ----------- 8.9/12.8 MB 527.8 kB/s eta 0:00:08\n",
      "     --------------------------- ----------- 9.2/12.8 MB 532.6 kB/s eta 0:00:07\n",
      "     ---------------------------- ---------- 9.4/12.8 MB 536.8 kB/s eta 0:00:07\n",
      "     ---------------------------- ---------- 9.4/12.8 MB 536.8 kB/s eta 0:00:07\n",
      "     ----------------------------- --------- 9.7/12.8 MB 543.6 kB/s eta 0:00:06\n",
      "     ----------------------------- -------- 10.0/12.8 MB 550.8 kB/s eta 0:00:06\n",
      "     ------------------------------ ------- 10.2/12.8 MB 559.3 kB/s eta 0:00:05\n",
      "     ------------------------------- ------ 10.7/12.8 MB 577.1 kB/s eta 0:00:04\n",
      "     ------------------------------- ------ 10.7/12.8 MB 577.1 kB/s eta 0:00:04\n",
      "     -------------------------------- ----- 11.0/12.8 MB 583.0 kB/s eta 0:00:04\n",
      "     --------------------------------- ---- 11.3/12.8 MB 589.2 kB/s eta 0:00:03\n",
      "     ---------------------------------- --- 11.5/12.8 MB 594.7 kB/s eta 0:00:03\n",
      "     ----------------------------------- -- 11.8/12.8 MB 602.1 kB/s eta 0:00:02\n",
      "     ----------------------------------- -- 12.1/12.8 MB 610.8 kB/s eta 0:00:02\n",
      "     ------------------------------------ - 12.3/12.8 MB 615.0 kB/s eta 0:00:01\n",
      "     ------------------------------------ - 12.3/12.8 MB 615.0 kB/s eta 0:00:01\n",
      "     -------------------------------------  12.6/12.8 MB 619.9 kB/s eta 0:00:01\n",
      "     -------------------------------------- 12.8/12.8 MB 619.0 kB/s eta 0:00:00\n",
      "\u001b[38;5;2m[+] Download and installation successful\u001b[0m\n",
      "You can now load the package via spacy.load('en_core_web_sm')\n"
     ]
    },
    {
     "name": "stderr",
     "output_type": "stream",
     "text": [
      "DEPRECATION: Loading egg at c:\\users\\chemu\\appdata\\local\\programs\\python\\python311\\lib\\site-packages\\absl_py-2.1.0-py3.11.egg is deprecated. pip 25.1 will enforce this behaviour change. A possible replacement is to use pip for package installation. Discussion can be found at https://github.com/pypa/pip/issues/12330\n",
      "DEPRECATION: Loading egg at c:\\users\\chemu\\appdata\\local\\programs\\python\\python311\\lib\\site-packages\\apache_beam-2.55.0rc1-py3.11-win-amd64.egg is deprecated. pip 25.1 will enforce this behaviour change. A possible replacement is to use pip for package installation. Discussion can be found at https://github.com/pypa/pip/issues/12330\n",
      "DEPRECATION: Loading egg at c:\\users\\chemu\\appdata\\local\\programs\\python\\python311\\lib\\site-packages\\avro_python3-1.10.2-py3.11.egg is deprecated. pip 25.1 will enforce this behaviour change. A possible replacement is to use pip for package installation. Discussion can be found at https://github.com/pypa/pip/issues/12330\n",
      "DEPRECATION: Loading egg at c:\\users\\chemu\\appdata\\local\\programs\\python\\python311\\lib\\site-packages\\contextlib2-21.6.0-py3.11.egg is deprecated. pip 25.1 will enforce this behaviour change. A possible replacement is to use pip for package installation. Discussion can be found at https://github.com/pypa/pip/issues/12330\n",
      "DEPRECATION: Loading egg at c:\\users\\chemu\\appdata\\local\\programs\\python\\python311\\lib\\site-packages\\cython-3.0.9-py3.11.egg is deprecated. pip 25.1 will enforce this behaviour change. A possible replacement is to use pip for package installation. Discussion can be found at https://github.com/pypa/pip/issues/12330\n",
      "DEPRECATION: Loading egg at c:\\users\\chemu\\appdata\\local\\programs\\python\\python311\\lib\\site-packages\\dm_tree-0.1.8-py3.11-win-amd64.egg is deprecated. pip 25.1 will enforce this behaviour change. A possible replacement is to use pip for package installation. Discussion can be found at https://github.com/pypa/pip/issues/12330\n",
      "DEPRECATION: Loading egg at c:\\users\\chemu\\appdata\\local\\programs\\python\\python311\\lib\\site-packages\\lvis-0.5.3-py3.11.egg is deprecated. pip 25.1 will enforce this behaviour change. A possible replacement is to use pip for package installation. Discussion can be found at https://github.com/pypa/pip/issues/12330\n",
      "DEPRECATION: Loading egg at c:\\users\\chemu\\appdata\\local\\programs\\python\\python311\\lib\\site-packages\\matplotlib-3.8.3-py3.11-win-amd64.egg is deprecated. pip 25.1 will enforce this behaviour change. A possible replacement is to use pip for package installation. Discussion can be found at https://github.com/pypa/pip/issues/12330\n",
      "DEPRECATION: Loading egg at c:\\users\\chemu\\appdata\\local\\programs\\python\\python311\\lib\\site-packages\\namex-0.0.7-py3.11.egg is deprecated. pip 25.1 will enforce this behaviour change. A possible replacement is to use pip for package installation. Discussion can be found at https://github.com/pypa/pip/issues/12330\n",
      "DEPRECATION: Loading egg at c:\\users\\chemu\\appdata\\local\\programs\\python\\python311\\lib\\site-packages\\object_detection-0.1-py3.11.egg is deprecated. pip 25.1 will enforce this behaviour change. A possible replacement is to use pip for package installation. Discussion can be found at https://github.com/pypa/pip/issues/12330\n",
      "DEPRECATION: Loading egg at c:\\users\\chemu\\appdata\\local\\programs\\python\\python311\\lib\\site-packages\\portalocker-2.8.2-py3.11.egg is deprecated. pip 25.1 will enforce this behaviour change. A possible replacement is to use pip for package installation. Discussion can be found at https://github.com/pypa/pip/issues/12330\n",
      "DEPRECATION: Loading egg at c:\\users\\chemu\\appdata\\local\\programs\\python\\python311\\lib\\site-packages\\pycocotools-2.0.7-py3.11-win-amd64.egg is deprecated. pip 25.1 will enforce this behaviour change. A possible replacement is to use pip for package installation. Discussion can be found at https://github.com/pypa/pip/issues/12330\n",
      "DEPRECATION: Loading egg at c:\\users\\chemu\\appdata\\local\\programs\\python\\python311\\lib\\site-packages\\pyparsing-2.4.7-py3.11.egg is deprecated. pip 25.1 will enforce this behaviour change. A possible replacement is to use pip for package installation. Discussion can be found at https://github.com/pypa/pip/issues/12330\n",
      "DEPRECATION: Loading egg at c:\\users\\chemu\\appdata\\local\\programs\\python\\python311\\lib\\site-packages\\regex-2023.12.25-py3.11-win-amd64.egg is deprecated. pip 25.1 will enforce this behaviour change. A possible replacement is to use pip for package installation. Discussion can be found at https://github.com/pypa/pip/issues/12330\n",
      "DEPRECATION: Loading egg at c:\\users\\chemu\\appdata\\local\\programs\\python\\python311\\lib\\site-packages\\rich-13.7.1-py3.11.egg is deprecated. pip 25.1 will enforce this behaviour change. A possible replacement is to use pip for package installation. Discussion can be found at https://github.com/pypa/pip/issues/12330\n",
      "DEPRECATION: Loading egg at c:\\users\\chemu\\appdata\\local\\programs\\python\\python311\\lib\\site-packages\\sacrebleu-2.2.0-py3.11.egg is deprecated. pip 25.1 will enforce this behaviour change. A possible replacement is to use pip for package installation. Discussion can be found at https://github.com/pypa/pip/issues/12330\n",
      "DEPRECATION: Loading egg at c:\\users\\chemu\\appdata\\local\\programs\\python\\python311\\lib\\site-packages\\tabulate-0.9.0-py3.11.egg is deprecated. pip 25.1 will enforce this behaviour change. A possible replacement is to use pip for package installation. Discussion can be found at https://github.com/pypa/pip/issues/12330\n",
      "DEPRECATION: Loading egg at c:\\users\\chemu\\appdata\\local\\programs\\python\\python311\\lib\\site-packages\\tensorflow_io-0.31.0-py3.11-win-amd64.egg is deprecated. pip 25.1 will enforce this behaviour change. A possible replacement is to use pip for package installation. Discussion can be found at https://github.com/pypa/pip/issues/12330\n",
      "DEPRECATION: Loading egg at c:\\users\\chemu\\appdata\\local\\programs\\python\\python311\\lib\\site-packages\\tensorflow_io_gcs_filesystem-0.31.0-py3.11-win-amd64.egg is deprecated. pip 25.1 will enforce this behaviour change. A possible replacement is to use pip for package installation. Discussion can be found at https://github.com/pypa/pip/issues/12330\n",
      "DEPRECATION: Loading egg at c:\\users\\chemu\\appdata\\local\\programs\\python\\python311\\lib\\site-packages\\tf_models_official-2.15.0-py3.11.egg is deprecated. pip 25.1 will enforce this behaviour change. A possible replacement is to use pip for package installation. Discussion can be found at https://github.com/pypa/pip/issues/12330\n",
      "DEPRECATION: Loading egg at c:\\users\\chemu\\appdata\\local\\programs\\python\\python311\\lib\\site-packages\\tf_slim-1.1.0-py3.11.egg is deprecated. pip 25.1 will enforce this behaviour change. A possible replacement is to use pip for package installation. Discussion can be found at https://github.com/pypa/pip/issues/12330\n",
      "\n",
      "[notice] A new release of pip is available: 25.0 -> 25.0.1\n",
      "[notice] To update, run: python.exe -m pip install --upgrade pip\n"
     ]
    }
   ],
   "source": [
    "!python -m spacy download en_core_web_sm"
   ]
  },
  {
   "cell_type": "markdown",
   "id": "bd677b6e",
   "metadata": {},
   "source": [
    "The **spaCy** library is used for efficient text processing, tokenization, Named Entity Recognition (NER), dependency parsing, and more.The English (\"en\") small-sized model **(en_core_web_sm)**,includes pre-trained word embeddings, POS tagging, NER, and syntactic analysis."
   ]
  },
  {
   "cell_type": "markdown",
   "id": "a233015d",
   "metadata": {},
   "source": [
    "**  **"
   ]
  },
  {
   "cell_type": "markdown",
   "id": "20ec2a00",
   "metadata": {},
   "source": [
    "# **ETL Pipeline and NLP Techniques**"
   ]
  },
  {
   "cell_type": "code",
   "execution_count": 10,
   "id": "fa71179f",
   "metadata": {},
   "outputs": [],
   "source": [
    "#Now let’s start by extracting text from any article on the web:\n",
    "\n",
    "class WebScraper:\n",
    "    def __init__(self, url):\n",
    "        self.url = url\n",
    "\n",
    "    def extract_article_text(self):\n",
    "        response = requests.get(self.url)\n",
    "        html_content = response.content\n",
    "        soup = BeautifulSoup(html_content, \"html.parser\")\n",
    "        article_text = soup.get_text()\n",
    "        return article_text"
   ]
  },
  {
   "cell_type": "code",
   "execution_count": 11,
   "id": "c7726b72",
   "metadata": {},
   "outputs": [],
   "source": [
    "#Here’s how we can clean and preprocess the text extracted from the article:\n",
    "\n",
    "class TextProcessor:\n",
    "    def __init__(self, nltk_stopwords):\n",
    "        self.nltk_stopwords = nltk_stopwords\n",
    "\n",
    "    def tokenize_and_clean(self, text):\n",
    "        words = text.split()\n",
    "        filtered_words = [word.lower() for word in words if word.isalpha() and word.lower() not in self.nltk_stopwords]\n",
    "        return filtered_words"
   ]
  },
  {
   "cell_type": "code",
   "execution_count": 12,
   "id": "d736d66d",
   "metadata": {},
   "outputs": [],
   "source": [
    "#Topic Modelling\n",
    "\n",
    "class TopicModeler:\n",
    "    \n",
    "    def model_topics(self, words, num_topics=3):\n",
    "        \n",
    "        # Create a dictionary and corpus\n",
    "        dictionary = Dictionary([words])\n",
    "        corpus = [dictionary.doc2bow(words)]\n",
    "        \n",
    "        # Train LDA model\n",
    "        lda_model = LdaModel(corpus=corpus, num_topics=num_topics, id2word=dictionary, random_state=42)\n",
    "        topics = lda_model.show_topics(num_topics=num_topics, formatted=False)\n",
    "        \n",
    "        # Convert topics to structured format (list of word-weight pairs)\n",
    "        formatted_topics = []\n",
    "        for topic in topics:\n",
    "            topic_words = [(word, weight) for word, weight in topic[1]]\n",
    "            formatted_topics.append(topic_words)\n",
    "        return formatted_topics\n"
   ]
  },
  {
   "cell_type": "code",
   "execution_count": 17,
   "id": "6ca91dc3",
   "metadata": {},
   "outputs": [],
   "source": [
    "import tensorflow as tf\n",
    "import warnings\n",
    "warnings.filterwarnings(\"ignore\", category=DeprecationWarning)\n",
    "tf.compat.v1.logging.set_verbosity(tf.compat.v1.logging.ERROR)"
   ]
  },
  {
   "cell_type": "code",
   "execution_count": 18,
   "id": "60a5f372",
   "metadata": {},
   "outputs": [],
   "source": [
    "#Text Summarization\n",
    "\n",
    "from transformers import pipeline as hf_pipeline  # Rename to avoid conflicts\n",
    "\n",
    "def summarize_text(text):\n",
    "    summarization_pipeline = hf_pipeline(\"summarization\", model=\"t5-small\")\n",
    "    truncated_text = text[:1024]  # Truncate to avoid errors \n",
    "    return summarization_pipeline(truncated_text, truncation=True, max_length=150, min_length=40)[0][\"summary_text\"]\n"
   ]
  },
  {
   "cell_type": "markdown",
   "id": "4f66859f",
   "metadata": {},
   "source": [
    "Imports TensorFlow (a deep learning framework used for machine learning, NLP tasks) and Sets the logging level to ERROR, hiding warnings and informational messages that TensorFlow might generate."
   ]
  },
  {
   "cell_type": "code",
   "execution_count": 19,
   "id": "8994251c",
   "metadata": {},
   "outputs": [],
   "source": [
    "# Named Entity Recognition\n",
    "\n",
    "import spacy\n",
    "\n",
    "def extract_named_entities(text):\n",
    "    nlp = spacy.load(\"en_core_web_sm\")\n",
    "    doc = nlp(text)\n",
    "    entities = [(ent.text, ent.label_) for ent in doc.ents]\n",
    "    return entities"
   ]
  },
  {
   "cell_type": "code",
   "execution_count": 20,
   "id": "1b5e1ae0",
   "metadata": {},
   "outputs": [],
   "source": [
    "#Sentiment Analyzer\n",
    "\n",
    "class SentimentAnalyzer:\n",
    "    def analyze_sentiment(self, text):\n",
    "        blob = TextBlob(text)\n",
    "        return blob.sentiment.polarity, blob.sentiment.subjectivity\n"
   ]
  },
  {
   "cell_type": "code",
   "execution_count": 21,
   "id": "416b43f0",
   "metadata": {},
   "outputs": [],
   "source": [
    "from transformers import logging\n",
    "logging.set_verbosity_error()\n"
   ]
  },
  {
   "cell_type": "markdown",
   "id": "d03970ad",
   "metadata": {},
   "source": [
    "Imports the logging module from the transformers library, which is used for managing log messages and Sets the logging level to ERROR, meaning only critical errors will be displayed, while warnings and informational messages will be suppressed."
   ]
  },
  {
   "cell_type": "markdown",
   "id": "81413edd",
   "metadata": {},
   "source": [
    "** **"
   ]
  },
  {
   "cell_type": "code",
   "execution_count": 22,
   "id": "2669b01a",
   "metadata": {},
   "outputs": [
    {
     "name": "stdout",
     "output_type": "stream",
     "text": [
      "\n",
      "Top 10 Word Frequencies:\n",
      "   Words  Frequencies\n",
      "      ai           18\n",
      " chinese            9\n",
      "      us            7\n",
      "deepseek            7\n",
      "    said            6\n",
      "  nvidia            5\n",
      "    tech            5\n",
      "   firms            5\n",
      "    also            4\n",
      "     hrs            4\n",
      "\n",
      "Extracted Topics:\n",
      "Topic 1:\n",
      "  ai              0.0125\n",
      "  chinese         0.0092\n",
      "  us              0.0080\n",
      "  deepseek        0.0068\n",
      "  firms           0.0059\n",
      "  days            0.0056\n",
      "  nvidia          0.0051\n",
      "  also            0.0049\n",
      "  app             0.0049\n",
      "  said            0.0048\n",
      "------------------------------\n",
      "Topic 2:\n",
      "  ai              0.0230\n",
      "  chinese         0.0116\n",
      "  us              0.0089\n",
      "  deepseek        0.0086\n",
      "  said            0.0081\n",
      "  firms           0.0072\n",
      "  tech            0.0071\n",
      "  nvidia          0.0064\n",
      "  hrs             0.0053\n",
      "  also            0.0051\n",
      "------------------------------\n",
      "Topic 3:\n",
      "  ai              0.0179\n",
      "  chinese         0.0078\n",
      "  deepseek        0.0076\n",
      "  said            0.0068\n",
      "  us              0.0062\n",
      "  nvidia          0.0057\n",
      "  bbc             0.0056\n",
      "  tech            0.0054\n",
      "  app             0.0048\n",
      "  liang           0.0046\n",
      "------------------------------\n",
      "\n",
      "Article Summary:\n",
      "Nvidia shares sink as Chinese AI app DeepSeek spooks US marketsSkip to contentBritish Broadcasting CorporationHomeNewsSportBusinessInnovationCultureArtsTravelEarthVideoLiveAudioWeatherNewslettersNvidia's .\n",
      "\n",
      "Named Entities:\n",
      "Nvidia (ORG)\n",
      "Chinese (NORP)\n",
      "DeepSeek (CARDINAL)\n",
      "US (GPE)\n",
      "UkraineUS & CanadaUKUK PoliticsEnglandN. IrelandN. Ireland (ORG)\n",
      "& TVMusicArt & DesignStyleBooksEntertainment NewsArtsArts (ORG)\n",
      "MotionTravelDestinationsAfricaAntarcticaAsiaAustralia (GPE)\n",
      "PacificCaribbean & BermudaCentral (ORG)\n",
      "SportHomeNewsSportBusinessInnovationCultureArtsTravelEarthVideoLiveAudioWeatherNewslettersNvidia (GPE)\n",
      "Chinese (NORP)\n",
      "\n",
      "Sentiment Analysis Results\n",
      "Polarity: 0.069\n",
      "Subjectivity: 0.424\n"
     ]
    }
   ],
   "source": [
    "class ETLPipeline:\n",
    "    def __init__(self, url):\n",
    "        self.url = url\n",
    "        self.nltk_stopwords = set(stopwords.words(\"english\"))\n",
    "\n",
    "    def run(self):\n",
    "        \n",
    "        # Extract and preprocess text\n",
    "        scraper = WebScraper(self.url)\n",
    "        article_text = scraper.extract_article_text()\n",
    "\n",
    "        processor = TextProcessor(self.nltk_stopwords)\n",
    "        filtered_words = processor.tokenize_and_clean(article_text)\n",
    "\n",
    "        # Perform word frequency analysis\n",
    "        word_freq = Counter(filtered_words)\n",
    "        df = pd.DataFrame(word_freq.items(), columns=[\"Words\", \"Frequencies\"])\n",
    "        df = df.sort_values(by=\"Frequencies\", ascending=False)\n",
    "\n",
    "        # Format and print the word frequency table\n",
    "        print(\"\\nTop 10 Word Frequencies:\")\n",
    "        print(df.head(10).to_string(index=False))\n",
    "\n",
    "        # Topic Modeling\n",
    "        topic_modeler = TopicModeler()\n",
    "        topics = topic_modeler.model_topics(filtered_words)\n",
    "        print(\"\\nExtracted Topics:\")\n",
    "        for idx, topic in enumerate(topics):\n",
    "            print(f\"Topic {idx + 1}:\")\n",
    "            for word, weight in topic:\n",
    "                print(f\"  {word:<15} {weight:.4f}\")\n",
    "            print(\"-\" * 30)\n",
    "            \n",
    "        #Text Summarization\n",
    "        summary = summarize_text(article_text)\n",
    "        print(\"\\nArticle Summary:\")\n",
    "        print(summary)\n",
    "        \n",
    "        #Naming Entities\n",
    "        entities = extract_named_entities(article_text)\n",
    "        print(\"\\nNamed Entities:\")\n",
    "        for entity, label in entities[:10]:  # Limit to top 10\n",
    "            print(f\"{entity} ({label})\")\n",
    "\n",
    "        # Sentiment analysis\n",
    "        sentiment_analyzer = SentimentAnalyzer()\n",
    "        polarity, subjectivity = sentiment_analyzer.analyze_sentiment(article_text)\n",
    "        \n",
    "        print(\"\\nSentiment Analysis Results\")\n",
    "        print(f\"Polarity: {polarity:.3f}\")\n",
    "        print(f\"Subjectivity: {subjectivity:.3f}\")\n",
    "\n",
    "        return df, polarity, subjectivity\n",
    "\n",
    "\n",
    "if __name__ == \"__main__\":\n",
    "    article_url = \"https://www.bbc.com/news/articles/c0qw7z2v1pgo\"  \n",
    "    etl_pipeline = ETLPipeline(article_url)\n",
    "    result_df, ploarity, subjectivity = etl_pipeline.run()\n"
   ]
  },
  {
   "cell_type": "code",
   "execution_count": 23,
   "id": "6fc700a8",
   "metadata": {},
   "outputs": [
    {
     "data": {
      "image/png": "[encoded data removed]",
      "text/plain": [
       "<Figure size 640x480 with 1 Axes>"
      ]
     },
     "metadata": {},
     "output_type": "display_data"
    }
   ],
   "source": [
    "import matplotlib.pyplot as plt\n",
    "\n",
    "top_words = result_df.head(10)\n",
    "plt.bar(top_words['Words'], top_words['Frequencies'])\n",
    "plt.title(\"Top 10 Words by Frequency\")\n",
    "plt.xlabel(\"Words\")\n",
    "plt.ylabel(\"Frequency\")\n",
    "plt.xticks(rotation=45)\n",
    "plt.show()\n"
   ]
  },
  {
   "cell_type": "code",
   "execution_count": 24,
   "id": "a1890d75",
   "metadata": {},
   "outputs": [
    {
     "name": "stdout",
     "output_type": "stream",
     "text": [
      "\n",
      "Top 10 Word Frequencies:\n",
      "   Words  Frequencies\n",
      "     cnn           54\n",
      "      ad           27\n",
      "      ai           23\n",
      "      us           22\n",
      "   video           21\n",
      "feedback           20\n",
      "  market           18\n",
      "    tech           17\n",
      "business           13\n",
      " account           12\n",
      "\n",
      "Extracted Topics:\n",
      "Topic 1:\n",
      "  cnn             0.0272\n",
      "  ai              0.0148\n",
      "  ad              0.0130\n",
      "  video           0.0127\n",
      "  us              0.0109\n",
      "  market          0.0098\n",
      "  tech            0.0096\n",
      "  feedback        0.0079\n",
      "  sign            0.0078\n",
      "  stocks          0.0077\n",
      "------------------------------\n",
      "Topic 2:\n",
      "  cnn             0.0329\n",
      "  ad              0.0165\n",
      "  feedback        0.0148\n",
      "  us              0.0129\n",
      "  market          0.0102\n",
      "  video           0.0100\n",
      "  tech            0.0097\n",
      "  ai              0.0092\n",
      "  business        0.0091\n",
      "  stocks          0.0066\n",
      "------------------------------\n",
      "Topic 3:\n",
      "  cnn             0.0235\n",
      "  ai              0.0145\n",
      "  ad              0.0133\n",
      "  video           0.0119\n",
      "  us              0.0115\n",
      "  market          0.0093\n",
      "  feedback        0.0085\n",
      "  tech            0.0085\n",
      "  account         0.0064\n",
      "  sign            0.0060\n",
      "------------------------------\n",
      "\n",
      "Article Summary:\n",
      "video player was slow to load content Video player never loaded Ad froze or did not finish loading . a shocking Chinese AI advancement called DeepSeek is sending US stocks plunging | CNN Business CNN values your feedback 1. How relevant is this ad to you?\n",
      "\n",
      "Named Entities:\n",
      "Chinese (NORP)\n",
      "DeepSeek (PRODUCT)\n",
      "US (GPE)\n",
      "CNN (ORG)\n",
      "CNN (ORG)\n",
      "1 (CARDINAL)\n",
      "2 (CARDINAL)\n",
      "Content (ORG)\n",
      "Cancel\n",
      "                                                \n",
      "\n",
      "                                                        Submit (PERSON)\n",
      "CNN (ORG)\n",
      "\n",
      "Sentiment Analysis Results\n",
      "Polarity: 0.083\n",
      "Subjectivity: 0.430\n"
     ]
    }
   ],
   "source": [
    "if __name__ == \"__main__\":\n",
    "    article_url = \"https://edition.cnn.com/2025/01/27/tech/deepseek-stocks-ai-china/index.html\"  \n",
    "    etl_pipeline = ETLPipeline(article_url)\n",
    "    result_df1, polarity1, subjectivity1  = etl_pipeline.run()"
   ]
  },
  {
   "cell_type": "code",
   "execution_count": 25,
   "id": "a1ba2631",
   "metadata": {},
   "outputs": [
    {
     "data": {
      "image/png": "[encoded data removed]",
      "text/plain": [
       "<Figure size 640x480 with 1 Axes>"
      ]
     },
     "metadata": {},
     "output_type": "display_data"
    }
   ],
   "source": [
    "top_words = result_df1.head(10)\n",
    "plt.bar(top_words['Words'], top_words['Frequencies'])\n",
    "plt.title(\"Top 10 Words by Frequency\")\n",
    "plt.xlabel(\"Words\")\n",
    "plt.ylabel(\"Frequency\")\n",
    "plt.xticks(rotation=45)\n",
    "plt.show()\n"
   ]
  },
  {
   "cell_type": "markdown",
   "id": "0c8c3921",
   "metadata": {},
   "source": [
    "# **Comparing Sentiment Analysis for both channels**"
   ]
  },
  {
   "cell_type": "code",
   "execution_count": 26,
   "id": "4a67aaf4",
   "metadata": {},
   "outputs": [
    {
     "data": {
      "image/png": "[encoded data removed]",
      "text/plain": [
       "<Figure size 400x500 with 1 Axes>"
      ]
     },
     "metadata": {},
     "output_type": "display_data"
    }
   ],
   "source": [
    "import matplotlib.pyplot as plt\n",
    "import numpy as np\n",
    "\n",
    "# Sample sentiment scores (replace with actual results)\n",
    "bbc_polarity, bbc_subjectivity = ploarity, subjectivity  # BBC results\n",
    "cnn_polarity, cnn_subjectivity = polarity1, subjectivity1   # CNN results\n",
    "\n",
    "# Labels and values\n",
    "labels = [\"Polarity\", \"Subjectivity\"]\n",
    "bbc_values = [bbc_polarity, bbc_subjectivity]\n",
    "cnn_values = [cnn_polarity, cnn_subjectivity]\n",
    "\n",
    "# X locations for bars\n",
    "x = np.arange(len(labels))  \n",
    "width = 0.20  # Bar width\n",
    "\n",
    "# Plot bars\n",
    "fig, ax = plt.subplots(figsize=(4, 5))\n",
    "bars1 = ax.bar(x - width/2, bbc_values, width, label=\"BBC\", color=\"black\")\n",
    "bars2 = ax.bar(x + width/2, cnn_values, width, label=\"CNN\", color=\"red\")\n",
    "\n",
    "# Labels and formatting\n",
    "ax.set_xlabel(\"Sentiment Metrics\")\n",
    "ax.set_ylabel(\"Scores\")\n",
    "ax.set_title(\"Sentiment Analysis Comparison: BBC vs CNN\")\n",
    "ax.set_xticks(x)\n",
    "ax.set_xticklabels(labels)\n",
    "ax.legend()\n",
    "\n",
    "# Display plot\n",
    "plt.show()\n"
   ]
  },
  {
   "cell_type": "markdown",
   "id": "10e99ec2",
   "metadata": {},
   "source": [
    "**Conclusion: Sentiment Analysis of BBC vs. CNN**\n",
    "\n",
    "The sentiment analysis results extracted through the ETL Web Pipeline and analyzed using NLP techniques reveal key insights into the reporting styles of BBC and CNN:\n",
    "\n",
    "**Polarity**: Both news channels maintain a neutral to slightly positive tone in their articles, with CNN showing a marginally higher polarity score. This indicates that CNN’s content leans slightly more towards positive sentiment compared to BBC.\n",
    "\n",
    "**Subjectivity**: Both BBC and CNN exhibit a relatively high subjectivity score, with CNN being slightly more subjective than BBC. This suggests that CNN's articles may contain more opinionated language or analysis compared to BBC’s more objective reporting style.\n",
    "\n",
    "Overall, while both networks maintain a balanced sentiment, CNN appears to be slightly more opinion-driven and positive in tone compared to BBC. These insights help in understanding potential biases and variations in news reporting styles across different media sources."
   ]
  },
  {
   "cell_type": "markdown",
   "id": "aa8a74f2",
   "metadata": {},
   "source": [
    "** **"
   ]
  }
 ],
 "metadata": {
  "kernelspec": {
   "display_name": "Python 3 (ipykernel)",
   "language": "python",
   "name": "python3"
  },
  "language_info": {
   "codemirror_mode": {
    "name": "ipython",
    "version": 3
   },
   "file_extension": ".py",
   "mimetype": "text/x-python",
   "name": "python",
   "nbconvert_exporter": "python",
   "pygments_lexer": "ipython3",
   "version": "3.11.1"
  }
 },
 "nbformat": 4,
 "nbformat_minor": 5
}
